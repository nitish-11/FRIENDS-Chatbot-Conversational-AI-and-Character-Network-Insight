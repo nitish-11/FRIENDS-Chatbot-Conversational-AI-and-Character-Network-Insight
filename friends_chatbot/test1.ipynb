{
 "cells": [
  {
   "cell_type": "code",
   "execution_count": 1,
   "metadata": {},
   "outputs": [],
   "source": [
    "import pandas as pd"
   ]
  },
  {
   "cell_type": "code",
   "execution_count": 2,
   "metadata": {},
   "outputs": [],
   "source": [
    "df1 = pd.read_csv(\"merged_transcripts3.csv\")"
   ]
  },
  {
   "cell_type": "code",
   "execution_count": 5,
   "metadata": {},
   "outputs": [
    {
     "data": {
      "text/plain": [
       "Speaker\n",
       "Rachel            9335\n",
       "Ross              9231\n",
       "Chandler          8506\n",
       "Monica            8482\n",
       "Joey              8319\n",
       "                  ... \n",
       "Narrator             1\n",
       "Attendant            1\n",
       "Boy                  1\n",
       "Emma                 1\n",
       "Paleontologist       1\n",
       "Name: count, Length: 364, dtype: int64"
      ]
     },
     "execution_count": 5,
     "metadata": {},
     "output_type": "execute_result"
    }
   ],
   "source": [
    "df1['Speaker'].value_counts()"
   ]
  },
  {
   "cell_type": "code",
   "execution_count": 6,
   "metadata": {},
   "outputs": [],
   "source": [
    "#duplicate copy\n",
    "df2= df1.copy()"
   ]
  },
  {
   "cell_type": "code",
   "execution_count": 7,
   "metadata": {},
   "outputs": [],
   "source": [
    "rename_dict1 = {\n",
    "    'Rust': 'Ross',\n",
    "    'Greene': 'Rachel',\n",
    "    'Monicas': 'Monica',\n",
    "    'MONICA': 'Monica',\n",
    "    'GREENE': 'Rachel',\n",
    "    'Phoebeball': 'Phoebe',\n",
    "    'Phoebo': 'Phoebe',\n",
    "    'Susie': 'Susan',\n",
    "    'Rosss': 'Ross',\n",
    "    'Susanne': 'Susan',\n",
    "    'Trib': 'Joey',\n",
    "    #'Rubella': 'Ross',\n",
    "    'Tribianni': 'Joey'\n",
    "}\n"
   ]
  },
  {
   "cell_type": "code",
   "execution_count": 8,
   "metadata": {},
   "outputs": [],
   "source": [
    "rename_dict2 = {\n",
    "    'Buffay': 'Phoebe',\n",
    "    'Bugs': 'Phoebe',\n",
    "    'RACHEL': 'Rachel',\n",
    "    'Tribbiani': 'Joey',\n",
    "    'Pheeboh': 'Phoebe',\n",
    "    'Rossie': 'Ross',\n",
    "    'Phoebs': 'Phoebe',\n",
    "    'Phoe': 'Phoebe',\n",
    "    'Russ': 'Ross',\n",
    "    'ROSS': 'Ross',\n",
    "    'sus': 'Susan',\n",
    "    'Raquel': 'Ross',\n",
    "    'Sue': 'Susan',\n",
    "    'SUSAN': 'Susan',\n",
    "    'Rust': 'Ross',\n",
    "    'bing': 'Chandler',\n",
    "    'Rosstepher': 'Ross',\n",
    "    'Phoebe-Estelle': 'Phoebe',\n",
    "    'R-R-Richard': 'Richard',\n",
    "    'Rossel': 'Ross'\n",
    "}"
   ]
  },
  {
   "cell_type": "code",
   "execution_count": 9,
   "metadata": {},
   "outputs": [],
   "source": [
    "rename_dict3 = {\n",
    "    'Greene': 'Rachel',\n",
    "    'Chan': 'Chandler',\n",
    "    'Jo': 'Joey',\n",
    "    'Monican': 'Monica',\n",
    "    'CAROL': 'Carol',\n",
    "    'Chanlder': 'Chandler',\n",
    "    'Chappy': 'Chandler',\n",
    "    'Chad': 'Chandler',\n",
    "    'Chander': 'Chandler',\n",
    "    'Phoebo': 'Phoebe',\n",
    "    'Phoebs': 'Phoebe',\n",
    "    'Monican': 'Monica',\n",
    "    'Joel': 'Joey',\n",
    "    'BUFFAY': 'Phoebe',\n",
    "    'Jennifer': 'Rachel',\n",
    "    'Joan': 'Joey'\n",
    "}"
   ]
  },
  {
   "cell_type": "code",
   "execution_count": 10,
   "metadata": {},
   "outputs": [],
   "source": [
    "rename_dict4 = {\n",
    "    'GELLER': 'Ross',\n",
    "    'Geller': 'Ross',\n",
    "    #'Darling': 'Chandler',\n",
    "    'Pheeboh': 'Phoebe',\n",
    "    'Rach': 'Rachel',\n",
    "    'Bing': 'Chandler',\n",
    "    'Mon': 'Monica',\n",
    "    'Green': 'Rachel',\n",
    "    'Pheebs': 'Phoebe',\n",
    "    'Moncia': 'Monica',\n",
    "    'JOEY': 'Joey',\n",
    "    'CHANDLER': 'Chandler',\n",
    "    'MONICA': 'Monica',\n",
    "    'PHOEBE': 'Phoebe',\n",
    "    'Gellers': 'Ross',\n",
    "    'Joe': 'Joey',\n",
    "    'GREEN': 'Rachel'\n",
    "    # Add more name mappings as needed\n",
    "}\n"
   ]
  },
  {
   "cell_type": "code",
   "execution_count": 11,
   "metadata": {},
   "outputs": [],
   "source": [
    "df2['Speaker'] = df2['Speaker'].replace(rename_dict1)\n",
    "df2['Speaker'] = df2['Speaker'].replace(rename_dict2)\n",
    "df2['Speaker'] = df2['Speaker'].replace(rename_dict3)\n",
    "df2['Speaker'] = df2['Speaker'].replace(rename_dict4)\n"
   ]
  },
  {
   "cell_type": "code",
   "execution_count": 12,
   "metadata": {},
   "outputs": [
    {
     "data": {
      "text/plain": [
       "Speaker\n",
       "Rachel            9431\n",
       "Ross              9254\n",
       "Chandler          8563\n",
       "Monica            8482\n",
       "Joey              8319\n",
       "                  ... \n",
       "Mel                  1\n",
       "Locksmith            1\n",
       "Commercial           1\n",
       "Gunter               1\n",
       "Paleontologist       1\n",
       "Name: count, Length: 358, dtype: int64"
      ]
     },
     "execution_count": 12,
     "metadata": {},
     "output_type": "execute_result"
    }
   ],
   "source": [
    "df2['Speaker'].value_counts()"
   ]
  },
  {
   "cell_type": "code",
   "execution_count": null,
   "metadata": {},
   "outputs": [],
   "source": [
    "# No significant difference between the df1 and df2"
   ]
  }
 ],
 "metadata": {
  "kernelspec": {
   "display_name": "naruto_envr",
   "language": "python",
   "name": "python3"
  },
  "language_info": {
   "codemirror_mode": {
    "name": "ipython",
    "version": 3
   },
   "file_extension": ".py",
   "mimetype": "text/x-python",
   "name": "python",
   "nbconvert_exporter": "python",
   "pygments_lexer": "ipython3",
   "version": "3.11.0"
  }
 },
 "nbformat": 4,
 "nbformat_minor": 2
}
