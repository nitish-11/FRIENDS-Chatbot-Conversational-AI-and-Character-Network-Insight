{
 "cells": [
  {
   "cell_type": "code",
   "execution_count": 78,
   "metadata": {},
   "outputs": [],
   "source": [
    "import pandas as pd"
   ]
  },
  {
   "cell_type": "code",
   "execution_count": 104,
   "metadata": {},
   "outputs": [],
   "source": [
    "data_path=\"merged_transcripts3.csv\"\n",
    "df = pd.read_csv(data_path)"
   ]
  },
  {
   "cell_type": "code",
   "execution_count": 105,
   "metadata": {},
   "outputs": [
    {
     "data": {
      "text/html": [
       "<div>\n",
       "<style scoped>\n",
       "    .dataframe tbody tr th:only-of-type {\n",
       "        vertical-align: middle;\n",
       "    }\n",
       "\n",
       "    .dataframe tbody tr th {\n",
       "        vertical-align: top;\n",
       "    }\n",
       "\n",
       "    .dataframe thead th {\n",
       "        text-align: right;\n",
       "    }\n",
       "</style>\n",
       "<table border=\"1\" class=\"dataframe\">\n",
       "  <thead>\n",
       "    <tr style=\"text-align: right;\">\n",
       "      <th></th>\n",
       "      <th>Speaker</th>\n",
       "      <th>Dialogue</th>\n",
       "    </tr>\n",
       "  </thead>\n",
       "  <tbody>\n",
       "    <tr>\n",
       "      <th>0</th>\n",
       "      <td>Monica</td>\n",
       "      <td>There's nothing to tell! He's just some guy I ...</td>\n",
       "    </tr>\n",
       "    <tr>\n",
       "      <th>1</th>\n",
       "      <td>Joey</td>\n",
       "      <td>C'mon, you're going out with the guy! There's ...</td>\n",
       "    </tr>\n",
       "    <tr>\n",
       "      <th>2</th>\n",
       "      <td>Chandler</td>\n",
       "      <td>All right Joey, be nice. So does he have a hum...</td>\n",
       "    </tr>\n",
       "    <tr>\n",
       "      <th>3</th>\n",
       "      <td>Phoebe</td>\n",
       "      <td>Wait, does he eat chalk?</td>\n",
       "    </tr>\n",
       "  </tbody>\n",
       "</table>\n",
       "</div>"
      ],
      "text/plain": [
       "    Speaker                                           Dialogue\n",
       "0    Monica  There's nothing to tell! He's just some guy I ...\n",
       "1      Joey  C'mon, you're going out with the guy! There's ...\n",
       "2  Chandler  All right Joey, be nice. So does he have a hum...\n",
       "3    Phoebe                           Wait, does he eat chalk?"
      ]
     },
     "execution_count": 105,
     "metadata": {},
     "output_type": "execute_result"
    }
   ],
   "source": [
    "df.head(4)"
   ]
  },
  {
   "cell_type": "code",
   "execution_count": 193,
   "metadata": {},
   "outputs": [
    {
     "data": {
      "text/plain": [
       "Speaker\n",
       "Rachel      9466\n",
       "Ross        9254\n",
       "Monica      8569\n",
       "Chandler    8563\n",
       "Joey        8319\n",
       "Phoebe      7651\n",
       "Name: count, dtype: int64"
      ]
     },
     "execution_count": 193,
     "metadata": {},
     "output_type": "execute_result"
    }
   ],
   "source": [
    "df['Speaker'].value_counts().head(6)"
   ]
  },
  {
   "cell_type": "code",
   "execution_count": 107,
   "metadata": {},
   "outputs": [
    {
     "data": {
      "text/plain": [
       "Speaker\n",
       "Jade         16\n",
       "Teacher      16\n",
       "Tom          15\n",
       "Rob          15\n",
       "Wendy        15\n",
       "Matt         15\n",
       "Megan        15\n",
       "Stephanie    15\n",
       "Jason        15\n",
       "Mischa       14\n",
       "Name: count, dtype: int64"
      ]
     },
     "execution_count": 107,
     "metadata": {},
     "output_type": "execute_result"
    }
   ],
   "source": [
    "pd.reset_option('display.max_rows', None)\n",
    "\n",
    "\n",
    "df['Speaker'].value_counts()[120:130]"
   ]
  },
  {
   "cell_type": "code",
   "execution_count": 110,
   "metadata": {},
   "outputs": [
    {
     "data": {
      "text/html": [
       "<div>\n",
       "<style scoped>\n",
       "    .dataframe tbody tr th:only-of-type {\n",
       "        vertical-align: middle;\n",
       "    }\n",
       "\n",
       "    .dataframe tbody tr th {\n",
       "        vertical-align: top;\n",
       "    }\n",
       "\n",
       "    .dataframe thead th {\n",
       "        text-align: right;\n",
       "    }\n",
       "</style>\n",
       "<table border=\"1\" class=\"dataframe\">\n",
       "  <thead>\n",
       "    <tr style=\"text-align: right;\">\n",
       "      <th></th>\n",
       "      <th>Speaker</th>\n",
       "      <th>Dialogue</th>\n",
       "    </tr>\n",
       "  </thead>\n",
       "  <tbody>\n",
       "  </tbody>\n",
       "</table>\n",
       "</div>"
      ],
      "text/plain": [
       "Empty DataFrame\n",
       "Columns: [Speaker, Dialogue]\n",
       "Index: []"
      ]
     },
     "execution_count": 110,
     "metadata": {},
     "output_type": "execute_result"
    }
   ],
   "source": [
    "pd.reset_option('display.max_rows', None)\n",
    "df[df['Speaker']== 'Russ']"
   ]
  },
  {
   "cell_type": "code",
   "execution_count": 153,
   "metadata": {},
   "outputs": [],
   "source": [
    "df['Speaker'] = df['Speaker'].replace(\n",
    "    { \n",
    "    'Leslie': 'Michelle',\n",
    "    'Mindy': 'Phoebe',\n",
    "    'Phoe' :'Phoebe',\n",
    "    'Rach' : 'Rachel',\n",
    "    'Susie' : 'Rachel',\n",
    "    'Jennifer' : 'Rachel', \n",
    "    'Bonnie' : 'Christine',\n",
    "    'Russ'  : 'Ross',\n",
    "    'Mnca'  : 'Monica'\n",
    "    }\n",
    ")"
   ]
  },
  {
   "cell_type": "code",
   "execution_count": 186,
   "metadata": {},
   "outputs": [],
   "source": [
    "df = df[df['Speaker'] != 'All']\n"
   ]
  },
  {
   "cell_type": "code",
   "execution_count": 181,
   "metadata": {},
   "outputs": [],
   "source": [
    "\n",
    "df['Speaker'] = df['Speaker'].replace( {\n",
    "    'Terry' : 'Gunther',\n",
    "    'Roger' : 'Gunther',\n",
    "    'Lauren' : 'Gunther',\n",
    "     'Lydia' : 'Paolo',\n",
    "     'Chan' : 'Chandler',\n",
    "     'Steve' : 'Robert',\n",
    "     'Doug' : 'Robert'\n",
    "\n",
    "}\n",
    ")\n",
    "\n",
    "\n",
    "all\n",
    "parker\n",
    "lennart\n",
    "kristen\n",
    "Sandy\n",
    "earl"
   ]
  },
  {
   "cell_type": "code",
   "execution_count": 200,
   "metadata": {},
   "outputs": [
    {
     "data": {
      "text/html": [
       "<div>\n",
       "<style scoped>\n",
       "    .dataframe tbody tr th:only-of-type {\n",
       "        vertical-align: middle;\n",
       "    }\n",
       "\n",
       "    .dataframe tbody tr th {\n",
       "        vertical-align: top;\n",
       "    }\n",
       "\n",
       "    .dataframe thead th {\n",
       "        text-align: right;\n",
       "    }\n",
       "</style>\n",
       "<table border=\"1\" class=\"dataframe\">\n",
       "  <thead>\n",
       "    <tr style=\"text-align: right;\">\n",
       "      <th></th>\n",
       "      <th>Speaker</th>\n",
       "      <th>Dialogue</th>\n",
       "    </tr>\n",
       "  </thead>\n",
       "  <tbody>\n",
       "    <tr>\n",
       "      <th>43418</th>\n",
       "      <td>Earl</td>\n",
       "      <td>I don’t need any toner.</td>\n",
       "    </tr>\n",
       "    <tr>\n",
       "      <th>43420</th>\n",
       "      <td>Earl</td>\n",
       "      <td>Not me.</td>\n",
       "    </tr>\n",
       "    <tr>\n",
       "      <th>43422</th>\n",
       "      <td>Earl</td>\n",
       "      <td>You wanna know why. You wanna know why?</td>\n",
       "    </tr>\n",
       "    <tr>\n",
       "      <th>43424</th>\n",
       "      <td>Earl</td>\n",
       "      <td>Okay, I don’t need any toner because I’m going...</td>\n",
       "    </tr>\n",
       "    <tr>\n",
       "      <th>43426</th>\n",
       "      <td>Earl</td>\n",
       "      <td>Okay, so…no toner today. Thanks anyway, bye-bye.</td>\n",
       "    </tr>\n",
       "    <tr>\n",
       "      <th>43428</th>\n",
       "      <td>Earl</td>\n",
       "      <td>Well…I only have one thing to do today. I gues...</td>\n",
       "    </tr>\n",
       "    <tr>\n",
       "      <th>43430</th>\n",
       "      <td>Earl</td>\n",
       "      <td>It’s just that I uh, have been working for ten...</td>\n",
       "    </tr>\n",
       "    <tr>\n",
       "      <th>43432</th>\n",
       "      <td>Earl</td>\n",
       "      <td>I-I’m sorry?</td>\n",
       "    </tr>\n",
       "    <tr>\n",
       "      <th>43434</th>\n",
       "      <td>Earl</td>\n",
       "      <td>Oh yeah? I work in a cubicle surrounded by peo...</td>\n",
       "    </tr>\n",
       "    <tr>\n",
       "      <th>43477</th>\n",
       "      <td>Earl</td>\n",
       "      <td>No! That’s just the \"Hey Guy\" guy. He says tha...</td>\n",
       "    </tr>\n",
       "    <tr>\n",
       "      <th>43479</th>\n",
       "      <td>Earl</td>\n",
       "      <td>Yeah! Right!</td>\n",
       "    </tr>\n",
       "    <tr>\n",
       "      <th>43481</th>\n",
       "      <td>Earl</td>\n",
       "      <td>Oh no.</td>\n",
       "    </tr>\n",
       "    <tr>\n",
       "      <th>43484</th>\n",
       "      <td>Earl</td>\n",
       "      <td>Okay, I should, I should probably be getting b...</td>\n",
       "    </tr>\n",
       "    <tr>\n",
       "      <th>43546</th>\n",
       "      <td>Earl</td>\n",
       "      <td>I’m right here!!!!</td>\n",
       "    </tr>\n",
       "    <tr>\n",
       "      <th>43548</th>\n",
       "      <td>Earl</td>\n",
       "      <td>Phoebe? The lady who sells toner?</td>\n",
       "    </tr>\n",
       "    <tr>\n",
       "      <th>43550</th>\n",
       "      <td>Earl</td>\n",
       "      <td>Look, um I really appreciate your coming down…</td>\n",
       "    </tr>\n",
       "    <tr>\n",
       "      <th>43552</th>\n",
       "      <td>Earl</td>\n",
       "      <td>Why?!</td>\n",
       "    </tr>\n",
       "    <tr>\n",
       "      <th>43554</th>\n",
       "      <td>Earl</td>\n",
       "      <td>I thought it was toner.</td>\n",
       "    </tr>\n",
       "    <tr>\n",
       "      <th>43556</th>\n",
       "      <td>Earl</td>\n",
       "      <td>Really?!</td>\n",
       "    </tr>\n",
       "    <tr>\n",
       "      <th>43558</th>\n",
       "      <td>Earl</td>\n",
       "      <td>How?</td>\n",
       "    </tr>\n",
       "    <tr>\n",
       "      <th>43560</th>\n",
       "      <td>Earl</td>\n",
       "      <td>Couldn’t it just be a coincidence?</td>\n",
       "    </tr>\n",
       "    <tr>\n",
       "      <th>43562</th>\n",
       "      <td>Earl</td>\n",
       "      <td>It doesn’t really seem like enough to be fate.</td>\n",
       "    </tr>\n",
       "    <tr>\n",
       "      <th>43564</th>\n",
       "      <td>Earl</td>\n",
       "      <td>I’m actually the office manager.</td>\n",
       "    </tr>\n",
       "    <tr>\n",
       "      <th>43566</th>\n",
       "      <td>Earl</td>\n",
       "      <td>Well, was there anything else?!</td>\n",
       "    </tr>\n",
       "    <tr>\n",
       "      <th>43568</th>\n",
       "      <td>Earl</td>\n",
       "      <td>Philadelphia.</td>\n",
       "    </tr>\n",
       "    <tr>\n",
       "      <th>43570</th>\n",
       "      <td>Earl</td>\n",
       "      <td>Really?</td>\n",
       "    </tr>\n",
       "    <tr>\n",
       "      <th>43572</th>\n",
       "      <td>Earl</td>\n",
       "      <td>Yeah-yeah.</td>\n",
       "    </tr>\n",
       "    <tr>\n",
       "      <th>43574</th>\n",
       "      <td>Earl</td>\n",
       "      <td>Did you hear that?! I don’t need you guys to c...</td>\n",
       "    </tr>\n",
       "    <tr>\n",
       "      <th>43576</th>\n",
       "      <td>Earl</td>\n",
       "      <td>Yeah.</td>\n",
       "    </tr>\n",
       "  </tbody>\n",
       "</table>\n",
       "</div>"
      ],
      "text/plain": [
       "      Speaker                                           Dialogue\n",
       "43418    Earl                            I don’t need any toner.\n",
       "43420    Earl                                            Not me.\n",
       "43422    Earl            You wanna know why. You wanna know why?\n",
       "43424    Earl  Okay, I don’t need any toner because I’m going...\n",
       "43426    Earl   Okay, so…no toner today. Thanks anyway, bye-bye.\n",
       "43428    Earl  Well…I only have one thing to do today. I gues...\n",
       "43430    Earl  It’s just that I uh, have been working for ten...\n",
       "43432    Earl                                       I-I’m sorry?\n",
       "43434    Earl  Oh yeah? I work in a cubicle surrounded by peo...\n",
       "43477    Earl  No! That’s just the \"Hey Guy\" guy. He says tha...\n",
       "43479    Earl                                       Yeah! Right!\n",
       "43481    Earl                                             Oh no.\n",
       "43484    Earl  Okay, I should, I should probably be getting b...\n",
       "43546    Earl                                 I’m right here!!!!\n",
       "43548    Earl                  Phoebe? The lady who sells toner?\n",
       "43550    Earl     Look, um I really appreciate your coming down…\n",
       "43552    Earl                                              Why?!\n",
       "43554    Earl                            I thought it was toner.\n",
       "43556    Earl                                           Really?!\n",
       "43558    Earl                                               How?\n",
       "43560    Earl                 Couldn’t it just be a coincidence?\n",
       "43562    Earl     It doesn’t really seem like enough to be fate.\n",
       "43564    Earl                   I’m actually the office manager.\n",
       "43566    Earl                    Well, was there anything else?!\n",
       "43568    Earl                                      Philadelphia.\n",
       "43570    Earl                                            Really?\n",
       "43572    Earl                                         Yeah-yeah.\n",
       "43574    Earl  Did you hear that?! I don’t need you guys to c...\n",
       "43576    Earl                                              Yeah."
      ]
     },
     "execution_count": 200,
     "metadata": {},
     "output_type": "execute_result"
    }
   ],
   "source": [
    "df[df['Speaker'] == 'Earl']\n"
   ]
  },
  {
   "cell_type": "code",
   "execution_count": null,
   "metadata": {},
   "outputs": [],
   "source": [
    "rtst\n",
    "grandmother\n",
    "doctor\n",
    "tommy\n",
    "katie \n",
    "policeman\n",
    "russ = Ross\n",
    "laura \n",
    "fbob\n",
    "mindy  = Phoe = Phoebe\n",
    "interviewer\n",
    "lauren =gunter = roger = terry\n",
    "minister\n",
    "girl\n",
    "lydia =paolo"
   ]
  },
  {
   "cell_type": "code",
   "execution_count": null,
   "metadata": {},
   "outputs": [],
   "source": [
    "# Woman\n",
    "Janine\n",
    "Mnca\n",
    "Rach = susie = jennifer \n",
    "Nurse\n",
    "Guy\n",
    "Director\n",
    "Danny\n",
    "Chan\n",
    "Man\n",
    "Waiter\n",
    "receptionist\n",
    "Steve   (Jon Favreau) = Doug = robert\n",
    "Christine = bonnie\n",
    "all\n",
    "parker\n",
    "lennart\n",
    "kristen\n",
    "Sandy\n",
    "earl \n",
    "\n",
    "\n",
    "\n"
   ]
  },
  {
   "cell_type": "code",
   "execution_count": 194,
   "metadata": {},
   "outputs": [],
   "source": [
    "df.to_csv(\"merged_transcripts4.csv\")"
   ]
  },
  {
   "cell_type": "code",
   "execution_count": 195,
   "metadata": {},
   "outputs": [
    {
     "data": {
      "text/html": [
       "<div>\n",
       "<style scoped>\n",
       "    .dataframe tbody tr th:only-of-type {\n",
       "        vertical-align: middle;\n",
       "    }\n",
       "\n",
       "    .dataframe tbody tr th {\n",
       "        vertical-align: top;\n",
       "    }\n",
       "\n",
       "    .dataframe thead th {\n",
       "        text-align: right;\n",
       "    }\n",
       "</style>\n",
       "<table border=\"1\" class=\"dataframe\">\n",
       "  <thead>\n",
       "    <tr style=\"text-align: right;\">\n",
       "      <th></th>\n",
       "      <th>Speaker</th>\n",
       "      <th>Dialogue</th>\n",
       "    </tr>\n",
       "  </thead>\n",
       "  <tbody>\n",
       "    <tr>\n",
       "      <th>0</th>\n",
       "      <td>Monica</td>\n",
       "      <td>There's nothing to tell! He's just some guy I ...</td>\n",
       "    </tr>\n",
       "    <tr>\n",
       "      <th>1</th>\n",
       "      <td>Joey</td>\n",
       "      <td>C'mon, you're going out with the guy! There's ...</td>\n",
       "    </tr>\n",
       "    <tr>\n",
       "      <th>2</th>\n",
       "      <td>Chandler</td>\n",
       "      <td>All right Joey, be nice. So does he have a hum...</td>\n",
       "    </tr>\n",
       "    <tr>\n",
       "      <th>3</th>\n",
       "      <td>Phoebe</td>\n",
       "      <td>Wait, does he eat chalk?</td>\n",
       "    </tr>\n",
       "    <tr>\n",
       "      <th>4</th>\n",
       "      <td>Phoebe</td>\n",
       "      <td>Just, 'cause, I don't want her to go through w...</td>\n",
       "    </tr>\n",
       "    <tr>\n",
       "      <th>...</th>\n",
       "      <td>...</td>\n",
       "      <td>...</td>\n",
       "    </tr>\n",
       "    <tr>\n",
       "      <th>59217</th>\n",
       "      <td>Ross</td>\n",
       "      <td>I think I know too but I've been really wrong ...</td>\n",
       "    </tr>\n",
       "    <tr>\n",
       "      <th>59218</th>\n",
       "      <td>Ross</td>\n",
       "      <td>I'm sorry... we... we can't.</td>\n",
       "    </tr>\n",
       "    <tr>\n",
       "      <th>59219</th>\n",
       "      <td>Charlie</td>\n",
       "      <td>All right, all right.</td>\n",
       "    </tr>\n",
       "    <tr>\n",
       "      <th>59220</th>\n",
       "      <td>Ross</td>\n",
       "      <td>I mean, you just went out with my best friend,...</td>\n",
       "    </tr>\n",
       "    <tr>\n",
       "      <th>59221</th>\n",
       "      <td>Rachel</td>\n",
       "      <td>What? End Homo ergaster: Some scientists class...</td>\n",
       "    </tr>\n",
       "  </tbody>\n",
       "</table>\n",
       "<p>57350 rows × 2 columns</p>\n",
       "</div>"
      ],
      "text/plain": [
       "        Speaker                                           Dialogue\n",
       "0        Monica  There's nothing to tell! He's just some guy I ...\n",
       "1          Joey  C'mon, you're going out with the guy! There's ...\n",
       "2      Chandler  All right Joey, be nice. So does he have a hum...\n",
       "3        Phoebe                           Wait, does he eat chalk?\n",
       "4        Phoebe  Just, 'cause, I don't want her to go through w...\n",
       "...         ...                                                ...\n",
       "59217      Ross  I think I know too but I've been really wrong ...\n",
       "59218      Ross                       I'm sorry... we... we can't.\n",
       "59219   Charlie                              All right, all right.\n",
       "59220      Ross  I mean, you just went out with my best friend,...\n",
       "59221    Rachel  What? End Homo ergaster: Some scientists class...\n",
       "\n",
       "[57350 rows x 2 columns]"
      ]
     },
     "execution_count": 195,
     "metadata": {},
     "output_type": "execute_result"
    }
   ],
   "source": [
    "# First, get the counts of each value in the 'Speaker' column\n",
    "speaker_counts = df['Speaker'].value_counts()\n",
    "\n",
    "# Filter the DataFrame to keep only those 'Speaker' values with counts 16 or greater\n",
    "df_filtered = df[df['Speaker'].isin(speaker_counts[speaker_counts >= 16].index)]\n",
    "\n",
    "# Display the filtered DataFrame\n",
    "df_filtered\n"
   ]
  },
  {
   "cell_type": "code",
   "execution_count": 196,
   "metadata": {},
   "outputs": [],
   "source": [
    "df_filtered.to_csv('merged_transcripts5.csv')"
   ]
  },
  {
   "cell_type": "code",
   "execution_count": 25,
   "metadata": {},
   "outputs": [],
   "source": [
    "df['Speaker'] = df['Speaker'].str.lower()\n"
   ]
  },
  {
   "cell_type": "code",
   "execution_count": 198,
   "metadata": {},
   "outputs": [
    {
     "data": {
      "text/plain": [
       "Speaker\n",
       "Rachel      9466\n",
       "Ross        9254\n",
       "Monica      8569\n",
       "Chandler    8563\n",
       "Joey        8319\n",
       "Phoebe      7651\n",
       "Mike         360\n",
       "Richard      256\n",
       "Janice       216\n",
       "Gunther      202\n",
       "Emily        202\n",
       "Carol        193\n",
       "Charlie      190\n",
       "Frank        146\n",
       "Tag          146\n",
       "Name: count, dtype: int64"
      ]
     },
     "execution_count": 198,
     "metadata": {},
     "output_type": "execute_result"
    }
   ],
   "source": [
    "df['Speaker'].value_counts().head(15)"
   ]
  },
  {
   "cell_type": "code",
   "execution_count": 28,
   "metadata": {},
   "outputs": [],
   "source": [
    "df['Speaker'] = df['Speaker'].str.capitalize()"
   ]
  },
  {
   "cell_type": "code",
   "execution_count": 34,
   "metadata": {},
   "outputs": [
    {
     "data": {
      "text/plain": [
       "Speaker\n",
       "Rachel       9335\n",
       "Ross         9231\n",
       "Chandler     8506\n",
       "Monica       8482\n",
       "Joey         8319\n",
       "Phoebe       7567\n",
       "Mike          360\n",
       "Richard       256\n",
       "Janice        216\n",
       "Emily         202\n",
       "Carol         193\n",
       "Charlie       190\n",
       "Tag           146\n",
       "Frank         146\n",
       "David         137\n",
       "Paul          133\n",
       "Gunther       133\n",
       "Amy           119\n",
       "Woman         112\n",
       "Susan         105\n",
       "Pete          103\n",
       "Joshua         98\n",
       "Gary           96\n",
       "Eric           95\n",
       "Elizabeth      94\n",
       "Janine         92\n",
       "Mona           92\n",
       "Erica          92\n",
       "Kathy          91\n",
       "Mnca           87\n",
       "Ursula         85\n",
       "Jill           83\n",
       "Rach           80\n",
       "Ben            77\n",
       "Name: count, dtype: int64"
      ]
     },
     "execution_count": 34,
     "metadata": {},
     "output_type": "execute_result"
    }
   ],
   "source": [
    "df['Speaker'].value_counts().head(34)"
   ]
  },
  {
   "cell_type": "code",
   "execution_count": 30,
   "metadata": {},
   "outputs": [
    {
     "data": {
      "text/plain": [
       "Speaker\n",
       "Cowgirl           1\n",
       "Alex              1\n",
       "Allison           1\n",
       "Locksmith         1\n",
       "Commercial        1\n",
       "Narrator          1\n",
       "Attendant         1\n",
       "Boy               1\n",
       "Emma              1\n",
       "Paleontologist    1\n",
       "Name: count, dtype: int64"
      ]
     },
     "execution_count": 30,
     "metadata": {},
     "output_type": "execute_result"
    }
   ],
   "source": [
    "df['Speaker'].value_counts().tail(10)"
   ]
  },
  {
   "cell_type": "code",
   "execution_count": 33,
   "metadata": {},
   "outputs": [],
   "source": [
    "df.to_csv(\"merged_transcripts3.csv\", index=False)"
   ]
  },
  {
   "cell_type": "code",
   "execution_count": 7,
   "metadata": {},
   "outputs": [],
   "source": [
    "character_models = {\n",
    "        \"Rachel\": \"nitish-11/friends_Rachel_trained_Llama-3-8B\",\n",
    "        \"Ross\": \"nitish-11/friends_Ross_trained2_Llama-3-8B\",\n",
    "        \"Chandler\": \"nitish-11/friends_Chandler_trained_Llama-3-8B\",\n",
    "        \"Monica\": \"nitish-11/friends_Monica_trained_Llama-3-8B\",\n",
    "        \"Joey\": \"nitish-11/friends_Joey_trained_Llama-3-8B\",\n",
    "        \"Phoebe\" : \"nitish-11/friends_Phoebe_trained_Llama-3-8B\"\n",
    "        }"
   ]
  },
  {
   "cell_type": "code",
   "execution_count": 6,
   "metadata": {},
   "outputs": [
    {
     "name": "stdout",
     "output_type": "stream",
     "text": [
      "dict_keys(['Rachel', 'Ross', 'Chandler', 'Monica', 'Joey', 'Phoebe'])\n"
     ]
    }
   ],
   "source": [
    "print(character_models.keys())"
   ]
  },
  {
   "cell_type": "code",
   "execution_count": null,
   "metadata": {},
   "outputs": [],
   "source": []
  }
 ],
 "metadata": {
  "kernelspec": {
   "display_name": "naruto_envr",
   "language": "python",
   "name": "python3"
  },
  "language_info": {
   "codemirror_mode": {
    "name": "ipython",
    "version": 3
   },
   "file_extension": ".py",
   "mimetype": "text/x-python",
   "name": "python",
   "nbconvert_exporter": "python",
   "pygments_lexer": "ipython3",
   "version": "3.11.0"
  }
 },
 "nbformat": 4,
 "nbformat_minor": 2
}
