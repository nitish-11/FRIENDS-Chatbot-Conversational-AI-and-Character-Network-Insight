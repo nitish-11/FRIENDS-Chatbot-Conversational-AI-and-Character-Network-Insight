{
  "cells": [
    {
      "cell_type": "code",
      "execution_count": 29,
      "metadata": {
        "colab": {
          "base_uri": "https://localhost:8080/"
        },
        "id": "T2lEaywLEadp",
        "outputId": "ea8143d1-b660-4fcf-9e63-343023cce2c1"
      },
      "outputs": [
        {
          "name": "stdout",
          "output_type": "stream",
          "text": [
            "Cloning into 'FRIENDS-Chatbot-Conversational-AI-and-Character-Network-Insight'...\n",
            "remote: Enumerating objects: 670, done.\u001b[K\n",
            "remote: Counting objects: 100% (387/387), done.\u001b[K\n",
            "remote: Compressing objects: 100% (339/339), done.\u001b[K\n",
            "remote: Total 670 (delta 96), reused 338 (delta 48), pack-reused 283 (from 1)\u001b[K\n",
            "Receiving objects: 100% (670/670), 15.56 MiB | 15.67 MiB/s, done.\n",
            "Resolving deltas: 100% (239/239), done.\n"
          ]
        }
      ],
      "source": [
        "!git clone https://github.com/nitish-11/FRIENDS-Chatbot-Conversational-AI-and-Character-Network-Insight.git"
      ]
    },
    {
      "cell_type": "code",
      "execution_count": 31,
      "metadata": {
        "colab": {
          "base_uri": "https://localhost:8080/",
          "height": 1000
        },
        "id": "V6_7E43-Ewzp",
        "outputId": "81b4279f-d418-4753-a2c8-4a5200ac4331"
      },
      "outputs": [
        {
          "name": "stdout",
          "output_type": "stream",
          "text": [
            "Collecting git+https://github.com/huggingface/peft.git (from -r FRIENDS-Chatbot-Conversational-AI-and-Character-Network-Insight/requirements.txt (line 9))\n",
            "  Cloning https://github.com/huggingface/peft.git to /tmp/pip-req-build-k1fk4u9d\n",
            "  Running command git clone --filter=blob:none --quiet https://github.com/huggingface/peft.git /tmp/pip-req-build-k1fk4u9d\n",
            "  Resolved https://github.com/huggingface/peft.git to commit e8259ff7bc72365ec730efb1f4005a95071d5dfd\n",
            "  Installing build dependencies ... \u001b[?25l\u001b[?25hdone\n",
            "  Getting requirements to build wheel ... \u001b[?25l\u001b[?25hdone\n",
            "  Preparing metadata (pyproject.toml) ... \u001b[?25l\u001b[?25hdone\n",
            "Requirement already satisfied: transformers==4.44.0 in /usr/local/lib/python3.10/dist-packages (from -r FRIENDS-Chatbot-Conversational-AI-and-Character-Network-Insight/requirements.txt (line 1)) (4.44.0)\n",
            "Collecting huggingface_hub==0.24.5 (from -r FRIENDS-Chatbot-Conversational-AI-and-Character-Network-Insight/requirements.txt (line 2))\n",
            "  Using cached huggingface_hub-0.24.5-py3-none-any.whl.metadata (13 kB)\n",
            "Requirement already satisfied: nltk==3.8.1 in /usr/local/lib/python3.10/dist-packages (from -r FRIENDS-Chatbot-Conversational-AI-and-Character-Network-Insight/requirements.txt (line 3)) (3.8.1)\n",
            "Collecting gradio==4.36.1 (from -r FRIENDS-Chatbot-Conversational-AI-and-Character-Network-Insight/requirements.txt (line 4))\n",
            "  Using cached gradio-4.36.1-py3-none-any.whl.metadata (15 kB)\n",
            "Requirement already satisfied: pyvis==0.3.2 in /usr/local/lib/python3.10/dist-packages (from -r FRIENDS-Chatbot-Conversational-AI-and-Character-Network-Insight/requirements.txt (line 5)) (0.3.2)\n",
            "Requirement already satisfied: evaluate==0.4.2 in /usr/local/lib/python3.10/dist-packages (from -r FRIENDS-Chatbot-Conversational-AI-and-Character-Network-Insight/requirements.txt (line 7)) (0.4.2)\n",
            "Requirement already satisfied: python-dotenv==1.0.1 in /usr/local/lib/python3.10/dist-packages (from -r FRIENDS-Chatbot-Conversational-AI-and-Character-Network-Insight/requirements.txt (line 8)) (1.0.1)\n",
            "Requirement already satisfied: trl==0.9.6 in /usr/local/lib/python3.10/dist-packages (from -r FRIENDS-Chatbot-Conversational-AI-and-Character-Network-Insight/requirements.txt (line 10)) (0.9.6)\n",
            "Requirement already satisfied: bitsandbytes==0.43.3 in /usr/local/lib/python3.10/dist-packages (from -r FRIENDS-Chatbot-Conversational-AI-and-Character-Network-Insight/requirements.txt (line 11)) (0.43.3)\n",
            "Requirement already satisfied: filelock in /usr/local/lib/python3.10/dist-packages (from transformers==4.44.0->-r FRIENDS-Chatbot-Conversational-AI-and-Character-Network-Insight/requirements.txt (line 1)) (3.16.1)\n",
            "Requirement already satisfied: numpy>=1.17 in /usr/local/lib/python3.10/dist-packages (from transformers==4.44.0->-r FRIENDS-Chatbot-Conversational-AI-and-Character-Network-Insight/requirements.txt (line 1)) (1.26.4)\n",
            "Requirement already satisfied: packaging>=20.0 in /usr/local/lib/python3.10/dist-packages (from transformers==4.44.0->-r FRIENDS-Chatbot-Conversational-AI-and-Character-Network-Insight/requirements.txt (line 1)) (24.1)\n",
            "Requirement already satisfied: pyyaml>=5.1 in /usr/local/lib/python3.10/dist-packages (from transformers==4.44.0->-r FRIENDS-Chatbot-Conversational-AI-and-Character-Network-Insight/requirements.txt (line 1)) (6.0.2)\n",
            "Requirement already satisfied: regex!=2019.12.17 in /usr/local/lib/python3.10/dist-packages (from transformers==4.44.0->-r FRIENDS-Chatbot-Conversational-AI-and-Character-Network-Insight/requirements.txt (line 1)) (2024.9.11)\n",
            "Requirement already satisfied: requests in /usr/local/lib/python3.10/dist-packages (from transformers==4.44.0->-r FRIENDS-Chatbot-Conversational-AI-and-Character-Network-Insight/requirements.txt (line 1)) (2.32.3)\n",
            "Requirement already satisfied: safetensors>=0.4.1 in /usr/local/lib/python3.10/dist-packages (from transformers==4.44.0->-r FRIENDS-Chatbot-Conversational-AI-and-Character-Network-Insight/requirements.txt (line 1)) (0.4.5)\n",
            "Requirement already satisfied: tokenizers<0.20,>=0.19 in /usr/local/lib/python3.10/dist-packages (from transformers==4.44.0->-r FRIENDS-Chatbot-Conversational-AI-and-Character-Network-Insight/requirements.txt (line 1)) (0.19.1)\n",
            "Requirement already satisfied: tqdm>=4.27 in /usr/local/lib/python3.10/dist-packages (from transformers==4.44.0->-r FRIENDS-Chatbot-Conversational-AI-and-Character-Network-Insight/requirements.txt (line 1)) (4.66.5)\n",
            "Requirement already satisfied: fsspec>=2023.5.0 in /usr/local/lib/python3.10/dist-packages (from huggingface_hub==0.24.5->-r FRIENDS-Chatbot-Conversational-AI-and-Character-Network-Insight/requirements.txt (line 2)) (2024.6.1)\n",
            "Requirement already satisfied: typing-extensions>=3.7.4.3 in /usr/local/lib/python3.10/dist-packages (from huggingface_hub==0.24.5->-r FRIENDS-Chatbot-Conversational-AI-and-Character-Network-Insight/requirements.txt (line 2)) (4.12.2)\n",
            "Requirement already satisfied: click in /usr/local/lib/python3.10/dist-packages (from nltk==3.8.1->-r FRIENDS-Chatbot-Conversational-AI-and-Character-Network-Insight/requirements.txt (line 3)) (8.1.7)\n",
            "Requirement already satisfied: joblib in /usr/local/lib/python3.10/dist-packages (from nltk==3.8.1->-r FRIENDS-Chatbot-Conversational-AI-and-Character-Network-Insight/requirements.txt (line 3)) (1.4.2)\n",
            "Requirement already satisfied: aiofiles<24.0,>=22.0 in /usr/local/lib/python3.10/dist-packages (from gradio==4.36.1->-r FRIENDS-Chatbot-Conversational-AI-and-Character-Network-Insight/requirements.txt (line 4)) (23.2.1)\n",
            "Requirement already satisfied: altair<6.0,>=4.2.0 in /usr/local/lib/python3.10/dist-packages (from gradio==4.36.1->-r FRIENDS-Chatbot-Conversational-AI-and-Character-Network-Insight/requirements.txt (line 4)) (4.2.2)\n",
            "Requirement already satisfied: fastapi in /usr/local/lib/python3.10/dist-packages (from gradio==4.36.1->-r FRIENDS-Chatbot-Conversational-AI-and-Character-Network-Insight/requirements.txt (line 4)) (0.115.2)\n",
            "Requirement already satisfied: ffmpy in /usr/local/lib/python3.10/dist-packages (from gradio==4.36.1->-r FRIENDS-Chatbot-Conversational-AI-and-Character-Network-Insight/requirements.txt (line 4)) (0.4.0)\n",
            "Collecting gradio-client==1.0.1 (from gradio==4.36.1->-r FRIENDS-Chatbot-Conversational-AI-and-Character-Network-Insight/requirements.txt (line 4))\n",
            "  Using cached gradio_client-1.0.1-py3-none-any.whl.metadata (7.1 kB)\n",
            "Requirement already satisfied: httpx>=0.24.1 in /usr/local/lib/python3.10/dist-packages (from gradio==4.36.1->-r FRIENDS-Chatbot-Conversational-AI-and-Character-Network-Insight/requirements.txt (line 4)) (0.27.2)\n",
            "Requirement already satisfied: importlib-resources<7.0,>=1.3 in /usr/local/lib/python3.10/dist-packages (from gradio==4.36.1->-r FRIENDS-Chatbot-Conversational-AI-and-Character-Network-Insight/requirements.txt (line 4)) (6.4.5)\n",
            "Requirement already satisfied: jinja2<4.0 in /usr/local/lib/python3.10/dist-packages (from gradio==4.36.1->-r FRIENDS-Chatbot-Conversational-AI-and-Character-Network-Insight/requirements.txt (line 4)) (3.1.4)\n",
            "Requirement already satisfied: markupsafe~=2.0 in /usr/local/lib/python3.10/dist-packages (from gradio==4.36.1->-r FRIENDS-Chatbot-Conversational-AI-and-Character-Network-Insight/requirements.txt (line 4)) (2.1.5)\n",
            "Requirement already satisfied: matplotlib~=3.0 in /usr/local/lib/python3.10/dist-packages (from gradio==4.36.1->-r FRIENDS-Chatbot-Conversational-AI-and-Character-Network-Insight/requirements.txt (line 4)) (3.7.1)\n",
            "Requirement already satisfied: orjson~=3.0 in /usr/local/lib/python3.10/dist-packages (from gradio==4.36.1->-r FRIENDS-Chatbot-Conversational-AI-and-Character-Network-Insight/requirements.txt (line 4)) (3.10.9)\n",
            "Requirement already satisfied: pandas<3.0,>=1.0 in /usr/local/lib/python3.10/dist-packages (from gradio==4.36.1->-r FRIENDS-Chatbot-Conversational-AI-and-Character-Network-Insight/requirements.txt (line 4)) (2.2.2)\n",
            "Requirement already satisfied: pillow<11.0,>=8.0 in /usr/local/lib/python3.10/dist-packages (from gradio==4.36.1->-r FRIENDS-Chatbot-Conversational-AI-and-Character-Network-Insight/requirements.txt (line 4)) (10.4.0)\n",
            "Requirement already satisfied: pydantic>=2.0 in /usr/local/lib/python3.10/dist-packages (from gradio==4.36.1->-r FRIENDS-Chatbot-Conversational-AI-and-Character-Network-Insight/requirements.txt (line 4)) (2.9.2)\n",
            "Requirement already satisfied: pydub in /usr/local/lib/python3.10/dist-packages (from gradio==4.36.1->-r FRIENDS-Chatbot-Conversational-AI-and-Character-Network-Insight/requirements.txt (line 4)) (0.25.1)\n",
            "Requirement already satisfied: python-multipart>=0.0.9 in /usr/local/lib/python3.10/dist-packages (from gradio==4.36.1->-r FRIENDS-Chatbot-Conversational-AI-and-Character-Network-Insight/requirements.txt (line 4)) (0.0.12)\n",
            "Requirement already satisfied: ruff>=0.2.2 in /usr/local/lib/python3.10/dist-packages (from gradio==4.36.1->-r FRIENDS-Chatbot-Conversational-AI-and-Character-Network-Insight/requirements.txt (line 4)) (0.7.0)\n",
            "Requirement already satisfied: semantic-version~=2.0 in /usr/local/lib/python3.10/dist-packages (from gradio==4.36.1->-r FRIENDS-Chatbot-Conversational-AI-and-Character-Network-Insight/requirements.txt (line 4)) (2.10.0)\n",
            "Requirement already satisfied: tomlkit==0.12.0 in /usr/local/lib/python3.10/dist-packages (from gradio==4.36.1->-r FRIENDS-Chatbot-Conversational-AI-and-Character-Network-Insight/requirements.txt (line 4)) (0.12.0)\n",
            "Requirement already satisfied: typer<1.0,>=0.12 in /usr/local/lib/python3.10/dist-packages (from gradio==4.36.1->-r FRIENDS-Chatbot-Conversational-AI-and-Character-Network-Insight/requirements.txt (line 4)) (0.12.5)\n",
            "Requirement already satisfied: urllib3~=2.0 in /usr/local/lib/python3.10/dist-packages (from gradio==4.36.1->-r FRIENDS-Chatbot-Conversational-AI-and-Character-Network-Insight/requirements.txt (line 4)) (2.2.3)\n",
            "Requirement already satisfied: uvicorn>=0.14.0 in /usr/local/lib/python3.10/dist-packages (from gradio==4.36.1->-r FRIENDS-Chatbot-Conversational-AI-and-Character-Network-Insight/requirements.txt (line 4)) (0.32.0)\n",
            "Requirement already satisfied: ipython>=5.3.0 in /usr/local/lib/python3.10/dist-packages (from pyvis==0.3.2->-r FRIENDS-Chatbot-Conversational-AI-and-Character-Network-Insight/requirements.txt (line 5)) (7.34.0)\n",
            "Requirement already satisfied: jsonpickle>=1.4.1 in /usr/local/lib/python3.10/dist-packages (from pyvis==0.3.2->-r FRIENDS-Chatbot-Conversational-AI-and-Character-Network-Insight/requirements.txt (line 5)) (3.3.0)\n",
            "Requirement already satisfied: networkx>=1.11 in /usr/local/lib/python3.10/dist-packages (from pyvis==0.3.2->-r FRIENDS-Chatbot-Conversational-AI-and-Character-Network-Insight/requirements.txt (line 5)) (3.4.1)\n",
            "Requirement already satisfied: datasets>=2.0.0 in /usr/local/lib/python3.10/dist-packages (from evaluate==0.4.2->-r FRIENDS-Chatbot-Conversational-AI-and-Character-Network-Insight/requirements.txt (line 7)) (3.0.1)\n",
            "Requirement already satisfied: dill in /usr/local/lib/python3.10/dist-packages (from evaluate==0.4.2->-r FRIENDS-Chatbot-Conversational-AI-and-Character-Network-Insight/requirements.txt (line 7)) (0.3.8)\n",
            "Requirement already satisfied: xxhash in /usr/local/lib/python3.10/dist-packages (from evaluate==0.4.2->-r FRIENDS-Chatbot-Conversational-AI-and-Character-Network-Insight/requirements.txt (line 7)) (3.5.0)\n",
            "Requirement already satisfied: multiprocess in /usr/local/lib/python3.10/dist-packages (from evaluate==0.4.2->-r FRIENDS-Chatbot-Conversational-AI-and-Character-Network-Insight/requirements.txt (line 7)) (0.70.16)\n",
            "Requirement already satisfied: torch>=1.4.0 in /usr/local/lib/python3.10/dist-packages (from trl==0.9.6->-r FRIENDS-Chatbot-Conversational-AI-and-Character-Network-Insight/requirements.txt (line 10)) (2.4.1+cu121)\n",
            "Requirement already satisfied: accelerate in /usr/local/lib/python3.10/dist-packages (from trl==0.9.6->-r FRIENDS-Chatbot-Conversational-AI-and-Character-Network-Insight/requirements.txt (line 10)) (0.34.2)\n",
            "Requirement already satisfied: tyro>=0.5.11 in /usr/local/lib/python3.10/dist-packages (from trl==0.9.6->-r FRIENDS-Chatbot-Conversational-AI-and-Character-Network-Insight/requirements.txt (line 10)) (0.8.13)\n",
            "Requirement already satisfied: websockets<12.0,>=10.0 in /usr/local/lib/python3.10/dist-packages (from gradio-client==1.0.1->gradio==4.36.1->-r FRIENDS-Chatbot-Conversational-AI-and-Character-Network-Insight/requirements.txt (line 4)) (11.0.3)\n",
            "Requirement already satisfied: psutil in /usr/local/lib/python3.10/dist-packages (from peft==0.13.3.dev0->-r FRIENDS-Chatbot-Conversational-AI-and-Character-Network-Insight/requirements.txt (line 9)) (5.9.5)\n",
            "Requirement already satisfied: entrypoints in /usr/local/lib/python3.10/dist-packages (from altair<6.0,>=4.2.0->gradio==4.36.1->-r FRIENDS-Chatbot-Conversational-AI-and-Character-Network-Insight/requirements.txt (line 4)) (0.4)\n",
            "Requirement already satisfied: jsonschema>=3.0 in /usr/local/lib/python3.10/dist-packages (from altair<6.0,>=4.2.0->gradio==4.36.1->-r FRIENDS-Chatbot-Conversational-AI-and-Character-Network-Insight/requirements.txt (line 4)) (4.23.0)\n",
            "Requirement already satisfied: toolz in /usr/local/lib/python3.10/dist-packages (from altair<6.0,>=4.2.0->gradio==4.36.1->-r FRIENDS-Chatbot-Conversational-AI-and-Character-Network-Insight/requirements.txt (line 4)) (0.12.1)\n",
            "Requirement already satisfied: pyarrow>=15.0.0 in /usr/local/lib/python3.10/dist-packages (from datasets>=2.0.0->evaluate==0.4.2->-r FRIENDS-Chatbot-Conversational-AI-and-Character-Network-Insight/requirements.txt (line 7)) (16.1.0)\n",
            "Requirement already satisfied: aiohttp in /usr/local/lib/python3.10/dist-packages (from datasets>=2.0.0->evaluate==0.4.2->-r FRIENDS-Chatbot-Conversational-AI-and-Character-Network-Insight/requirements.txt (line 7)) (3.10.10)\n",
            "Requirement already satisfied: anyio in /usr/local/lib/python3.10/dist-packages (from httpx>=0.24.1->gradio==4.36.1->-r FRIENDS-Chatbot-Conversational-AI-and-Character-Network-Insight/requirements.txt (line 4)) (3.7.1)\n",
            "Requirement already satisfied: certifi in /usr/local/lib/python3.10/dist-packages (from httpx>=0.24.1->gradio==4.36.1->-r FRIENDS-Chatbot-Conversational-AI-and-Character-Network-Insight/requirements.txt (line 4)) (2024.8.30)\n",
            "Requirement already satisfied: httpcore==1.* in /usr/local/lib/python3.10/dist-packages (from httpx>=0.24.1->gradio==4.36.1->-r FRIENDS-Chatbot-Conversational-AI-and-Character-Network-Insight/requirements.txt (line 4)) (1.0.6)\n",
            "Requirement already satisfied: idna in /usr/local/lib/python3.10/dist-packages (from httpx>=0.24.1->gradio==4.36.1->-r FRIENDS-Chatbot-Conversational-AI-and-Character-Network-Insight/requirements.txt (line 4)) (3.10)\n",
            "Requirement already satisfied: sniffio in /usr/local/lib/python3.10/dist-packages (from httpx>=0.24.1->gradio==4.36.1->-r FRIENDS-Chatbot-Conversational-AI-and-Character-Network-Insight/requirements.txt (line 4)) (1.3.1)\n",
            "Requirement already satisfied: h11<0.15,>=0.13 in /usr/local/lib/python3.10/dist-packages (from httpcore==1.*->httpx>=0.24.1->gradio==4.36.1->-r FRIENDS-Chatbot-Conversational-AI-and-Character-Network-Insight/requirements.txt (line 4)) (0.14.0)\n",
            "Requirement already satisfied: setuptools>=18.5 in /usr/local/lib/python3.10/dist-packages (from ipython>=5.3.0->pyvis==0.3.2->-r FRIENDS-Chatbot-Conversational-AI-and-Character-Network-Insight/requirements.txt (line 5)) (75.1.0)\n",
            "Requirement already satisfied: jedi>=0.16 in /usr/local/lib/python3.10/dist-packages (from ipython>=5.3.0->pyvis==0.3.2->-r FRIENDS-Chatbot-Conversational-AI-and-Character-Network-Insight/requirements.txt (line 5)) (0.19.1)\n",
            "Requirement already satisfied: decorator in /usr/local/lib/python3.10/dist-packages (from ipython>=5.3.0->pyvis==0.3.2->-r FRIENDS-Chatbot-Conversational-AI-and-Character-Network-Insight/requirements.txt (line 5)) (4.4.2)\n",
            "Requirement already satisfied: pickleshare in /usr/local/lib/python3.10/dist-packages (from ipython>=5.3.0->pyvis==0.3.2->-r FRIENDS-Chatbot-Conversational-AI-and-Character-Network-Insight/requirements.txt (line 5)) (0.7.5)\n",
            "Requirement already satisfied: traitlets>=4.2 in /usr/local/lib/python3.10/dist-packages (from ipython>=5.3.0->pyvis==0.3.2->-r FRIENDS-Chatbot-Conversational-AI-and-Character-Network-Insight/requirements.txt (line 5)) (5.7.1)\n",
            "Requirement already satisfied: prompt-toolkit!=3.0.0,!=3.0.1,<3.1.0,>=2.0.0 in /usr/local/lib/python3.10/dist-packages (from ipython>=5.3.0->pyvis==0.3.2->-r FRIENDS-Chatbot-Conversational-AI-and-Character-Network-Insight/requirements.txt (line 5)) (3.0.48)\n",
            "Requirement already satisfied: pygments in /usr/local/lib/python3.10/dist-packages (from ipython>=5.3.0->pyvis==0.3.2->-r FRIENDS-Chatbot-Conversational-AI-and-Character-Network-Insight/requirements.txt (line 5)) (2.18.0)\n",
            "Requirement already satisfied: backcall in /usr/local/lib/python3.10/dist-packages (from ipython>=5.3.0->pyvis==0.3.2->-r FRIENDS-Chatbot-Conversational-AI-and-Character-Network-Insight/requirements.txt (line 5)) (0.2.0)\n",
            "Requirement already satisfied: matplotlib-inline in /usr/local/lib/python3.10/dist-packages (from ipython>=5.3.0->pyvis==0.3.2->-r FRIENDS-Chatbot-Conversational-AI-and-Character-Network-Insight/requirements.txt (line 5)) (0.1.7)\n",
            "Requirement already satisfied: pexpect>4.3 in /usr/local/lib/python3.10/dist-packages (from ipython>=5.3.0->pyvis==0.3.2->-r FRIENDS-Chatbot-Conversational-AI-and-Character-Network-Insight/requirements.txt (line 5)) (4.9.0)\n",
            "Requirement already satisfied: contourpy>=1.0.1 in /usr/local/lib/python3.10/dist-packages (from matplotlib~=3.0->gradio==4.36.1->-r FRIENDS-Chatbot-Conversational-AI-and-Character-Network-Insight/requirements.txt (line 4)) (1.3.0)\n",
            "Requirement already satisfied: cycler>=0.10 in /usr/local/lib/python3.10/dist-packages (from matplotlib~=3.0->gradio==4.36.1->-r FRIENDS-Chatbot-Conversational-AI-and-Character-Network-Insight/requirements.txt (line 4)) (0.12.1)\n",
            "Requirement already satisfied: fonttools>=4.22.0 in /usr/local/lib/python3.10/dist-packages (from matplotlib~=3.0->gradio==4.36.1->-r FRIENDS-Chatbot-Conversational-AI-and-Character-Network-Insight/requirements.txt (line 4)) (4.54.1)\n",
            "Requirement already satisfied: kiwisolver>=1.0.1 in /usr/local/lib/python3.10/dist-packages (from matplotlib~=3.0->gradio==4.36.1->-r FRIENDS-Chatbot-Conversational-AI-and-Character-Network-Insight/requirements.txt (line 4)) (1.4.7)\n",
            "Requirement already satisfied: pyparsing>=2.3.1 in /usr/local/lib/python3.10/dist-packages (from matplotlib~=3.0->gradio==4.36.1->-r FRIENDS-Chatbot-Conversational-AI-and-Character-Network-Insight/requirements.txt (line 4)) (3.2.0)\n",
            "Requirement already satisfied: python-dateutil>=2.7 in /usr/local/lib/python3.10/dist-packages (from matplotlib~=3.0->gradio==4.36.1->-r FRIENDS-Chatbot-Conversational-AI-and-Character-Network-Insight/requirements.txt (line 4)) (2.8.2)\n",
            "Requirement already satisfied: pytz>=2020.1 in /usr/local/lib/python3.10/dist-packages (from pandas<3.0,>=1.0->gradio==4.36.1->-r FRIENDS-Chatbot-Conversational-AI-and-Character-Network-Insight/requirements.txt (line 4)) (2024.2)\n",
            "Requirement already satisfied: tzdata>=2022.7 in /usr/local/lib/python3.10/dist-packages (from pandas<3.0,>=1.0->gradio==4.36.1->-r FRIENDS-Chatbot-Conversational-AI-and-Character-Network-Insight/requirements.txt (line 4)) (2024.2)\n",
            "Requirement already satisfied: annotated-types>=0.6.0 in /usr/local/lib/python3.10/dist-packages (from pydantic>=2.0->gradio==4.36.1->-r FRIENDS-Chatbot-Conversational-AI-and-Character-Network-Insight/requirements.txt (line 4)) (0.7.0)\n",
            "Requirement already satisfied: pydantic-core==2.23.4 in /usr/local/lib/python3.10/dist-packages (from pydantic>=2.0->gradio==4.36.1->-r FRIENDS-Chatbot-Conversational-AI-and-Character-Network-Insight/requirements.txt (line 4)) (2.23.4)\n",
            "Requirement already satisfied: charset-normalizer<4,>=2 in /usr/local/lib/python3.10/dist-packages (from requests->transformers==4.44.0->-r FRIENDS-Chatbot-Conversational-AI-and-Character-Network-Insight/requirements.txt (line 1)) (3.4.0)\n",
            "Requirement already satisfied: sympy in /usr/local/lib/python3.10/dist-packages (from torch>=1.4.0->trl==0.9.6->-r FRIENDS-Chatbot-Conversational-AI-and-Character-Network-Insight/requirements.txt (line 10)) (1.13.3)\n",
            "Requirement already satisfied: shellingham>=1.3.0 in /usr/local/lib/python3.10/dist-packages (from typer<1.0,>=0.12->gradio==4.36.1->-r FRIENDS-Chatbot-Conversational-AI-and-Character-Network-Insight/requirements.txt (line 4)) (1.5.4)\n",
            "Requirement already satisfied: rich>=10.11.0 in /usr/local/lib/python3.10/dist-packages (from typer<1.0,>=0.12->gradio==4.36.1->-r FRIENDS-Chatbot-Conversational-AI-and-Character-Network-Insight/requirements.txt (line 4)) (13.9.2)\n",
            "Requirement already satisfied: docstring-parser>=0.16 in /usr/local/lib/python3.10/dist-packages (from tyro>=0.5.11->trl==0.9.6->-r FRIENDS-Chatbot-Conversational-AI-and-Character-Network-Insight/requirements.txt (line 10)) (0.16)\n",
            "Requirement already satisfied: shtab>=1.5.6 in /usr/local/lib/python3.10/dist-packages (from tyro>=0.5.11->trl==0.9.6->-r FRIENDS-Chatbot-Conversational-AI-and-Character-Network-Insight/requirements.txt (line 10)) (1.7.1)\n",
            "Requirement already satisfied: starlette<0.41.0,>=0.37.2 in /usr/local/lib/python3.10/dist-packages (from fastapi->gradio==4.36.1->-r FRIENDS-Chatbot-Conversational-AI-and-Character-Network-Insight/requirements.txt (line 4)) (0.40.0)\n",
            "Requirement already satisfied: aiohappyeyeballs>=2.3.0 in /usr/local/lib/python3.10/dist-packages (from aiohttp->datasets>=2.0.0->evaluate==0.4.2->-r FRIENDS-Chatbot-Conversational-AI-and-Character-Network-Insight/requirements.txt (line 7)) (2.4.3)\n",
            "Requirement already satisfied: aiosignal>=1.1.2 in /usr/local/lib/python3.10/dist-packages (from aiohttp->datasets>=2.0.0->evaluate==0.4.2->-r FRIENDS-Chatbot-Conversational-AI-and-Character-Network-Insight/requirements.txt (line 7)) (1.3.1)\n",
            "Requirement already satisfied: attrs>=17.3.0 in /usr/local/lib/python3.10/dist-packages (from aiohttp->datasets>=2.0.0->evaluate==0.4.2->-r FRIENDS-Chatbot-Conversational-AI-and-Character-Network-Insight/requirements.txt (line 7)) (24.2.0)\n",
            "Requirement already satisfied: frozenlist>=1.1.1 in /usr/local/lib/python3.10/dist-packages (from aiohttp->datasets>=2.0.0->evaluate==0.4.2->-r FRIENDS-Chatbot-Conversational-AI-and-Character-Network-Insight/requirements.txt (line 7)) (1.4.1)\n",
            "Requirement already satisfied: multidict<7.0,>=4.5 in /usr/local/lib/python3.10/dist-packages (from aiohttp->datasets>=2.0.0->evaluate==0.4.2->-r FRIENDS-Chatbot-Conversational-AI-and-Character-Network-Insight/requirements.txt (line 7)) (6.1.0)\n",
            "Requirement already satisfied: yarl<2.0,>=1.12.0 in /usr/local/lib/python3.10/dist-packages (from aiohttp->datasets>=2.0.0->evaluate==0.4.2->-r FRIENDS-Chatbot-Conversational-AI-and-Character-Network-Insight/requirements.txt (line 7)) (1.15.2)\n",
            "Requirement already satisfied: async-timeout<5.0,>=4.0 in /usr/local/lib/python3.10/dist-packages (from aiohttp->datasets>=2.0.0->evaluate==0.4.2->-r FRIENDS-Chatbot-Conversational-AI-and-Character-Network-Insight/requirements.txt (line 7)) (4.0.3)\n",
            "Requirement already satisfied: parso<0.9.0,>=0.8.3 in /usr/local/lib/python3.10/dist-packages (from jedi>=0.16->ipython>=5.3.0->pyvis==0.3.2->-r FRIENDS-Chatbot-Conversational-AI-and-Character-Network-Insight/requirements.txt (line 5)) (0.8.4)\n",
            "Requirement already satisfied: jsonschema-specifications>=2023.03.6 in /usr/local/lib/python3.10/dist-packages (from jsonschema>=3.0->altair<6.0,>=4.2.0->gradio==4.36.1->-r FRIENDS-Chatbot-Conversational-AI-and-Character-Network-Insight/requirements.txt (line 4)) (2024.10.1)\n",
            "Requirement already satisfied: referencing>=0.28.4 in /usr/local/lib/python3.10/dist-packages (from jsonschema>=3.0->altair<6.0,>=4.2.0->gradio==4.36.1->-r FRIENDS-Chatbot-Conversational-AI-and-Character-Network-Insight/requirements.txt (line 4)) (0.35.1)\n",
            "Requirement already satisfied: rpds-py>=0.7.1 in /usr/local/lib/python3.10/dist-packages (from jsonschema>=3.0->altair<6.0,>=4.2.0->gradio==4.36.1->-r FRIENDS-Chatbot-Conversational-AI-and-Character-Network-Insight/requirements.txt (line 4)) (0.20.0)\n",
            "Requirement already satisfied: ptyprocess>=0.5 in /usr/local/lib/python3.10/dist-packages (from pexpect>4.3->ipython>=5.3.0->pyvis==0.3.2->-r FRIENDS-Chatbot-Conversational-AI-and-Character-Network-Insight/requirements.txt (line 5)) (0.7.0)\n",
            "Requirement already satisfied: wcwidth in /usr/local/lib/python3.10/dist-packages (from prompt-toolkit!=3.0.0,!=3.0.1,<3.1.0,>=2.0.0->ipython>=5.3.0->pyvis==0.3.2->-r FRIENDS-Chatbot-Conversational-AI-and-Character-Network-Insight/requirements.txt (line 5)) (0.2.13)\n",
            "Requirement already satisfied: six>=1.5 in /usr/local/lib/python3.10/dist-packages (from python-dateutil>=2.7->matplotlib~=3.0->gradio==4.36.1->-r FRIENDS-Chatbot-Conversational-AI-and-Character-Network-Insight/requirements.txt (line 4)) (1.16.0)\n",
            "Requirement already satisfied: markdown-it-py>=2.2.0 in /usr/local/lib/python3.10/dist-packages (from rich>=10.11.0->typer<1.0,>=0.12->gradio==4.36.1->-r FRIENDS-Chatbot-Conversational-AI-and-Character-Network-Insight/requirements.txt (line 4)) (3.0.0)\n",
            "Requirement already satisfied: exceptiongroup in /usr/local/lib/python3.10/dist-packages (from anyio->httpx>=0.24.1->gradio==4.36.1->-r FRIENDS-Chatbot-Conversational-AI-and-Character-Network-Insight/requirements.txt (line 4)) (1.2.2)\n",
            "Requirement already satisfied: mpmath<1.4,>=1.1.0 in /usr/local/lib/python3.10/dist-packages (from sympy->torch>=1.4.0->trl==0.9.6->-r FRIENDS-Chatbot-Conversational-AI-and-Character-Network-Insight/requirements.txt (line 10)) (1.3.0)\n",
            "Requirement already satisfied: mdurl~=0.1 in /usr/local/lib/python3.10/dist-packages (from markdown-it-py>=2.2.0->rich>=10.11.0->typer<1.0,>=0.12->gradio==4.36.1->-r FRIENDS-Chatbot-Conversational-AI-and-Character-Network-Insight/requirements.txt (line 4)) (0.1.2)\n",
            "Requirement already satisfied: propcache>=0.2.0 in /usr/local/lib/python3.10/dist-packages (from yarl<2.0,>=1.12.0->aiohttp->datasets>=2.0.0->evaluate==0.4.2->-r FRIENDS-Chatbot-Conversational-AI-and-Character-Network-Insight/requirements.txt (line 7)) (0.2.0)\n",
            "Using cached huggingface_hub-0.24.5-py3-none-any.whl (417 kB)\n",
            "Using cached gradio-4.36.1-py3-none-any.whl (12.3 MB)\n",
            "Using cached gradio_client-1.0.1-py3-none-any.whl (318 kB)\n",
            "Installing collected packages: huggingface_hub, gradio-client, gradio\n",
            "  Attempting uninstall: huggingface_hub\n",
            "    Found existing installation: huggingface-hub 0.26.0\n",
            "    Uninstalling huggingface-hub-0.26.0:\n",
            "      Successfully uninstalled huggingface-hub-0.26.0\n",
            "  Attempting uninstall: gradio-client\n",
            "    Found existing installation: gradio_client 1.4.0\n",
            "    Uninstalling gradio_client-1.4.0:\n",
            "      Successfully uninstalled gradio_client-1.4.0\n",
            "  Attempting uninstall: gradio\n",
            "    Found existing installation: gradio 5.1.0\n",
            "    Uninstalling gradio-5.1.0:\n",
            "      Successfully uninstalled gradio-5.1.0\n",
            "Successfully installed gradio-4.36.1 gradio-client-1.0.1 huggingface_hub-0.24.5\n"
          ]
        },
        {
          "data": {
            "application/vnd.colab-display-data+json": {
              "id": "78c50e56e72245a9a62057b4b4575111",
              "pip_warning": {
                "packages": [
                  "huggingface_hub"
                ]
              }
            }
          },
          "metadata": {},
          "output_type": "display_data"
        }
      ],
      "source": [
        "!pip install -r FRIENDS-Chatbot-Conversational-AI-and-Character-Network-Insight/requirements.txt"
      ]
    },
    {
      "cell_type": "code",
      "execution_count": 3,
      "metadata": {
        "colab": {
          "base_uri": "https://localhost:8080/"
        },
        "id": "hygAEhtbFIoy",
        "outputId": "e4e5ce8d-3050-487d-9918-84d5a095cbd9"
      },
      "outputs": [
        {
          "name": "stdout",
          "output_type": "stream",
          "text": [
            "GPU is available\n"
          ]
        }
      ],
      "source": [
        "import torch\n",
        "\n",
        "if torch.cuda.is_available():\n",
        "    print(\"GPU is available\")\n",
        "else:\n",
        "    print(\"GPU is not available\")\n"
      ]
    },
    {
      "cell_type": "code",
      "execution_count": null,
      "metadata": {
        "id": "U493uImEOYfY"
      },
      "outputs": [],
      "source": [
        "# !huggingface-cli login\n"
      ]
    },
    {
      "cell_type": "code",
      "execution_count": 4,
      "metadata": {
        "colab": {
          "base_uri": "https://localhost:8080/"
        },
        "id": "qoN09iGMSlmu",
        "outputId": "45e91493-cc9b-47a0-ec42-4aa867f6dfd3"
      },
      "outputs": [
        {
          "name": "stdout",
          "output_type": "stream",
          "text": [
            "The token has not been saved to the git credentials helper. Pass `add_to_git_credential=True` in this function directly or `--add-to-git-credential` if using via `huggingface-cli` if you want to set the git credential as well.\n",
            "Token is valid (permission: write).\n",
            "Your token has been saved to /root/.cache/huggingface/token\n",
            "Login successful\n"
          ]
        }
      ],
      "source": [
        "from huggingface_hub import login\n",
        "\n",
        "# Use your Hugging Face token here\n",
        "login(token=\"*************************************************\")\n"
      ]
    },
    {
      "cell_type": "code",
      "execution_count": 35,
      "metadata": {
        "colab": {
          "base_uri": "https://localhost:8080/"
        },
        "id": "tHtdXq95LGVo",
        "outputId": "e4924ab8-548b-4d51-fda5-d2308237d5e2"
      },
      "outputs": [
        {
          "name": "stdout",
          "output_type": "stream",
          "text": [
            "2024-10-20 06:40:44.352635: E external/local_xla/xla/stream_executor/cuda/cuda_fft.cc:485] Unable to register cuFFT factory: Attempting to register factory for plugin cuFFT when one has already been registered\n",
            "2024-10-20 06:40:44.385174: E external/local_xla/xla/stream_executor/cuda/cuda_dnn.cc:8454] Unable to register cuDNN factory: Attempting to register factory for plugin cuDNN when one has already been registered\n",
            "2024-10-20 06:40:44.395322: E external/local_xla/xla/stream_executor/cuda/cuda_blas.cc:1452] Unable to register cuBLAS factory: Attempting to register factory for plugin cuBLAS when one has already been registered\n",
            "2024-10-20 06:40:44.416897: I tensorflow/core/platform/cpu_feature_guard.cc:210] This TensorFlow binary is optimized to use available CPU instructions in performance-critical operations.\n",
            "To enable the following instructions: AVX2 AVX512F FMA, in other operations, rebuild TensorFlow with the appropriate compiler flags.\n",
            "2024-10-20 06:40:46.150805: W tensorflow/compiler/tf2tensorrt/utils/py_utils.cc:38] TF-TRT Warning: Could not find TensorRT\n",
            "/usr/local/lib/python3.10/dist-packages/gradio/components/chatbot.py:222: UserWarning: You have not specified a value for the `type` parameter. Defaulting to the 'tuples' format for chatbot messages, but this is deprecated and will be removed in a future version of Gradio. Please set type='messages' instead, which uses openai-style 'role' and 'content' keys.\n",
            "  warnings.warn(\n",
            "* Running on local URL:  http://127.0.0.1:7860\n",
            "* Running on public URL: https://e4606b750ec5b2fa7b.gradio.live\n",
            "\n",
            "This share link expires in 72 hours. For free permanent hosting and GPU upgrades, run `gradio deploy` from the terminal in the working directory to deploy to Hugging Face Spaces (https://huggingface.co/spaces)\n",
            "Keyboard interruption in main thread... closing server.\n",
            "Traceback (most recent call last):\n",
            "  File \"/usr/local/lib/python3.10/dist-packages/gradio/blocks.py\", line 2831, in block_thread\n",
            "    time.sleep(0.1)\n",
            "KeyboardInterrupt\n",
            "\n",
            "During handling of the above exception, another exception occurred:\n",
            "\n",
            "Traceback (most recent call last):\n",
            "  File \"/content/FRIENDS-Chatbot-Conversational-AI-and-Character-Network-Insight/deploy.py\", line 683, in <module>\n",
            "    main()\n",
            "  File \"/content/FRIENDS-Chatbot-Conversational-AI-and-Character-Network-Insight/deploy.py\", line 680, in main\n",
            "    iface.launch(share=True)\n",
            "  File \"/usr/local/lib/python3.10/dist-packages/gradio/blocks.py\", line 2736, in launch\n",
            "    self.block_thread()\n",
            "  File \"/usr/local/lib/python3.10/dist-packages/gradio/blocks.py\", line 2835, in block_thread\n",
            "    self.server.close()\n",
            "  File \"/usr/local/lib/python3.10/dist-packages/gradio/http_server.py\", line 68, in close\n",
            "    self.thread.join(timeout=5)\n",
            "  File \"/usr/lib/python3.10/threading.py\", line 1100, in join\n",
            "    self._wait_for_tstate_lock(timeout=max(timeout, 0))\n",
            "  File \"/usr/lib/python3.10/threading.py\", line 1116, in _wait_for_tstate_lock\n",
            "    if lock.acquire(block, timeout):\n",
            "KeyboardInterrupt\n",
            "Killing tunnel 127.0.0.1:7860 <> https://e4606b750ec5b2fa7b.gradio.live\n",
            "^C\n"
          ]
        }
      ],
      "source": [
        "!cd FRIENDS-Chatbot-Conversational-AI-and-Character-Network-Insight && python deploy.py"
      ]
    },
    {
      "cell_type": "code",
      "execution_count": null,
      "metadata": {
        "id": "9p73g-P0FNSI"
      },
      "outputs": [],
      "source": [
        "# !python naruto_series_analysis/friends_show/deploy.py"
      ]
    },
    {
      "cell_type": "code",
      "execution_count": 30,
      "metadata": {
        "colab": {
          "base_uri": "https://localhost:8080/"
        },
        "id": "nwaT3Q07O_KE",
        "outputId": "8d8c60dc-fc18-43d5-acdd-3a2dc28f299a"
      },
      "outputs": [
        {
          "name": "stdout",
          "output_type": "stream",
          "text": [
            "Folder /content/naruto_series_analysis deleted successfully.\n"
          ]
        }
      ],
      "source": [
        "import shutil\n",
        "import os\n",
        "\n",
        "# Path to the folder you want to delete\n",
        "folder_path = '/content/FRIENDS-Chatbot-Conversational-AI-and-Character-Network-Insight'\n",
        "\n",
        "# Check if the folder exists and delete it if it does\n",
        "if os.path.exists(folder_path):\n",
        "    shutil.rmtree(folder_path)  # This will remove the folder and all its contents\n",
        "    print(f\"Folder {folder_path} deleted successfully.\")\n",
        "else:\n",
        "    print(f\"Folder {folder_path} does not exist.\")\n"
      ]
    },
    {
      "cell_type": "code",
      "execution_count": 33,
      "metadata": {
        "colab": {
          "base_uri": "https://localhost:8080/"
        },
        "id": "wIR8CS3TM1vI",
        "outputId": "6241d3f9-685c-4b5f-bc1f-10ca59696cf3"
      },
      "outputs": [
        {
          "name": "stdout",
          "output_type": "stream",
          "text": [
            "Name: gradio\n",
            "Version: 4.36.1\n",
            "Summary: Python library for easily interacting with trained machine learning models\n",
            "Home-page: https://github.com/gradio-app/gradio\n",
            "Author: \n",
            "Author-email: Abubakar Abid <gradio-team@huggingface.co>, Ali Abid <gradio-team@huggingface.co>, Ali Abdalla <gradio-team@huggingface.co>, Dawood Khan <gradio-team@huggingface.co>, Ahsen Khaliq <gradio-team@huggingface.co>, Pete Allen <gradio-team@huggingface.co>, Ömer Faruk Özdemir <gradio-team@huggingface.co>, Freddy A Boulton <gradio-team@huggingface.co>, Hannah Blair <gradio-team@huggingface.co>\n",
            "License: \n",
            "Location: /usr/local/lib/python3.10/dist-packages\n",
            "Requires: aiofiles, altair, fastapi, ffmpy, gradio-client, httpx, huggingface-hub, importlib-resources, jinja2, markupsafe, matplotlib, numpy, orjson, packaging, pandas, pillow, pydantic, pydub, python-multipart, pyyaml, ruff, semantic-version, tomlkit, typer, typing-extensions, urllib3, uvicorn\n",
            "Required-by: \n",
            "---\n",
            "Name: fastapi\n",
            "Version: 0.115.2\n",
            "Summary: FastAPI framework, high performance, easy to learn, fast to code, ready for production\n",
            "Home-page: https://github.com/fastapi/fastapi\n",
            "Author: \n",
            "Author-email: =?utf-8?q?Sebasti=C3=A1n_Ram=C3=ADrez?= <tiangolo@gmail.com>\n",
            "License: \n",
            "Location: /usr/local/lib/python3.10/dist-packages\n",
            "Requires: pydantic, starlette, typing-extensions\n",
            "Required-by: gradio\n",
            "---\n",
            "Name: pydantic\n",
            "Version: 2.9.2\n",
            "Summary: Data validation using Python type hints\n",
            "Home-page: https://github.com/pydantic/pydantic\n",
            "Author: \n",
            "Author-email: Samuel Colvin <s@muelcolvin.com>, Eric Jolibois <em.jolibois@gmail.com>, Hasan Ramezani <hasan.r67@gmail.com>, Adrian Garcia Badaracco <1755071+adriangb@users.noreply.github.com>, Terrence Dorsey <terry@pydantic.dev>, David Montague <david@pydantic.dev>, Serge Matveenko <lig@countzero.co>, Marcelo Trylesinski <marcelotryle@gmail.com>, Sydney Runkle <sydneymarierunkle@gmail.com>, David Hewitt <mail@davidhewitt.io>, Alex Hall <alex.mojaki@gmail.com>\n",
            "License: \n",
            "Location: /usr/local/lib/python3.10/dist-packages\n",
            "Requires: annotated-types, pydantic-core, typing-extensions\n",
            "Required-by: albumentations, confection, fastapi, google-cloud-aiplatform, google-generativeai, gradio, spacy, thinc, weasel\n"
          ]
        }
      ],
      "source": [
        "!pip show gradio fastapi pydantic"
      ]
    },
    {
      "cell_type": "code",
      "execution_count": 34,
      "metadata": {
        "colab": {
          "base_uri": "https://localhost:8080/",
          "height": 1000
        },
        "id": "rVIUiGPmM4CQ",
        "outputId": "3c1eb54f-6ec5-470a-dc0d-f61047db6151"
      },
      "outputs": [
        {
          "name": "stdout",
          "output_type": "stream",
          "text": [
            "Requirement already satisfied: gradio in /usr/local/lib/python3.10/dist-packages (4.36.1)\n",
            "Collecting gradio\n",
            "  Using cached gradio-5.1.0-py3-none-any.whl.metadata (15 kB)\n",
            "Requirement already satisfied: fastapi in /usr/local/lib/python3.10/dist-packages (0.115.2)\n",
            "Requirement already satisfied: pydantic in /usr/local/lib/python3.10/dist-packages (2.9.2)\n",
            "Requirement already satisfied: aiofiles<24.0,>=22.0 in /usr/local/lib/python3.10/dist-packages (from gradio) (23.2.1)\n",
            "Requirement already satisfied: anyio<5.0,>=3.0 in /usr/local/lib/python3.10/dist-packages (from gradio) (3.7.1)\n",
            "Requirement already satisfied: ffmpy in /usr/local/lib/python3.10/dist-packages (from gradio) (0.4.0)\n",
            "Collecting gradio-client==1.4.0 (from gradio)\n",
            "  Using cached gradio_client-1.4.0-py3-none-any.whl.metadata (7.1 kB)\n",
            "Requirement already satisfied: httpx>=0.24.1 in /usr/local/lib/python3.10/dist-packages (from gradio) (0.27.2)\n",
            "Collecting huggingface-hub>=0.25.1 (from gradio)\n",
            "  Using cached huggingface_hub-0.26.0-py3-none-any.whl.metadata (13 kB)\n",
            "Requirement already satisfied: jinja2<4.0 in /usr/local/lib/python3.10/dist-packages (from gradio) (3.1.4)\n",
            "Requirement already satisfied: markupsafe~=2.0 in /usr/local/lib/python3.10/dist-packages (from gradio) (2.1.5)\n",
            "Requirement already satisfied: numpy<3.0,>=1.0 in /usr/local/lib/python3.10/dist-packages (from gradio) (1.26.4)\n",
            "Requirement already satisfied: orjson~=3.0 in /usr/local/lib/python3.10/dist-packages (from gradio) (3.10.9)\n",
            "Requirement already satisfied: packaging in /usr/local/lib/python3.10/dist-packages (from gradio) (24.1)\n",
            "Requirement already satisfied: pandas<3.0,>=1.0 in /usr/local/lib/python3.10/dist-packages (from gradio) (2.2.2)\n",
            "Requirement already satisfied: pillow<11.0,>=8.0 in /usr/local/lib/python3.10/dist-packages (from gradio) (10.4.0)\n",
            "Requirement already satisfied: pydub in /usr/local/lib/python3.10/dist-packages (from gradio) (0.25.1)\n",
            "Requirement already satisfied: python-multipart>=0.0.9 in /usr/local/lib/python3.10/dist-packages (from gradio) (0.0.12)\n",
            "Requirement already satisfied: pyyaml<7.0,>=5.0 in /usr/local/lib/python3.10/dist-packages (from gradio) (6.0.2)\n",
            "Requirement already satisfied: ruff>=0.2.2 in /usr/local/lib/python3.10/dist-packages (from gradio) (0.7.0)\n",
            "Requirement already satisfied: semantic-version~=2.0 in /usr/local/lib/python3.10/dist-packages (from gradio) (2.10.0)\n",
            "Requirement already satisfied: tomlkit==0.12.0 in /usr/local/lib/python3.10/dist-packages (from gradio) (0.12.0)\n",
            "Requirement already satisfied: typer<1.0,>=0.12 in /usr/local/lib/python3.10/dist-packages (from gradio) (0.12.5)\n",
            "Requirement already satisfied: typing-extensions~=4.0 in /usr/local/lib/python3.10/dist-packages (from gradio) (4.12.2)\n",
            "Requirement already satisfied: uvicorn>=0.14.0 in /usr/local/lib/python3.10/dist-packages (from gradio) (0.32.0)\n",
            "Requirement already satisfied: fsspec in /usr/local/lib/python3.10/dist-packages (from gradio-client==1.4.0->gradio) (2024.6.1)\n",
            "Requirement already satisfied: websockets<13.0,>=10.0 in /usr/local/lib/python3.10/dist-packages (from gradio-client==1.4.0->gradio) (11.0.3)\n",
            "Requirement already satisfied: starlette<0.41.0,>=0.37.2 in /usr/local/lib/python3.10/dist-packages (from fastapi) (0.40.0)\n",
            "Requirement already satisfied: annotated-types>=0.6.0 in /usr/local/lib/python3.10/dist-packages (from pydantic) (0.7.0)\n",
            "Requirement already satisfied: pydantic-core==2.23.4 in /usr/local/lib/python3.10/dist-packages (from pydantic) (2.23.4)\n",
            "Requirement already satisfied: idna>=2.8 in /usr/local/lib/python3.10/dist-packages (from anyio<5.0,>=3.0->gradio) (3.10)\n",
            "Requirement already satisfied: sniffio>=1.1 in /usr/local/lib/python3.10/dist-packages (from anyio<5.0,>=3.0->gradio) (1.3.1)\n",
            "Requirement already satisfied: exceptiongroup in /usr/local/lib/python3.10/dist-packages (from anyio<5.0,>=3.0->gradio) (1.2.2)\n",
            "Requirement already satisfied: certifi in /usr/local/lib/python3.10/dist-packages (from httpx>=0.24.1->gradio) (2024.8.30)\n",
            "Requirement already satisfied: httpcore==1.* in /usr/local/lib/python3.10/dist-packages (from httpx>=0.24.1->gradio) (1.0.6)\n",
            "Requirement already satisfied: h11<0.15,>=0.13 in /usr/local/lib/python3.10/dist-packages (from httpcore==1.*->httpx>=0.24.1->gradio) (0.14.0)\n",
            "Requirement already satisfied: filelock in /usr/local/lib/python3.10/dist-packages (from huggingface-hub>=0.25.1->gradio) (3.16.1)\n",
            "Requirement already satisfied: requests in /usr/local/lib/python3.10/dist-packages (from huggingface-hub>=0.25.1->gradio) (2.32.3)\n",
            "Requirement already satisfied: tqdm>=4.42.1 in /usr/local/lib/python3.10/dist-packages (from huggingface-hub>=0.25.1->gradio) (4.66.5)\n",
            "Requirement already satisfied: python-dateutil>=2.8.2 in /usr/local/lib/python3.10/dist-packages (from pandas<3.0,>=1.0->gradio) (2.8.2)\n",
            "Requirement already satisfied: pytz>=2020.1 in /usr/local/lib/python3.10/dist-packages (from pandas<3.0,>=1.0->gradio) (2024.2)\n",
            "Requirement already satisfied: tzdata>=2022.7 in /usr/local/lib/python3.10/dist-packages (from pandas<3.0,>=1.0->gradio) (2024.2)\n",
            "Requirement already satisfied: click>=8.0.0 in /usr/local/lib/python3.10/dist-packages (from typer<1.0,>=0.12->gradio) (8.1.7)\n",
            "Requirement already satisfied: shellingham>=1.3.0 in /usr/local/lib/python3.10/dist-packages (from typer<1.0,>=0.12->gradio) (1.5.4)\n",
            "Requirement already satisfied: rich>=10.11.0 in /usr/local/lib/python3.10/dist-packages (from typer<1.0,>=0.12->gradio) (13.9.2)\n",
            "Requirement already satisfied: six>=1.5 in /usr/local/lib/python3.10/dist-packages (from python-dateutil>=2.8.2->pandas<3.0,>=1.0->gradio) (1.16.0)\n",
            "Requirement already satisfied: markdown-it-py>=2.2.0 in /usr/local/lib/python3.10/dist-packages (from rich>=10.11.0->typer<1.0,>=0.12->gradio) (3.0.0)\n",
            "Requirement already satisfied: pygments<3.0.0,>=2.13.0 in /usr/local/lib/python3.10/dist-packages (from rich>=10.11.0->typer<1.0,>=0.12->gradio) (2.18.0)\n",
            "Requirement already satisfied: charset-normalizer<4,>=2 in /usr/local/lib/python3.10/dist-packages (from requests->huggingface-hub>=0.25.1->gradio) (3.4.0)\n",
            "Requirement already satisfied: urllib3<3,>=1.21.1 in /usr/local/lib/python3.10/dist-packages (from requests->huggingface-hub>=0.25.1->gradio) (2.2.3)\n",
            "Requirement already satisfied: mdurl~=0.1 in /usr/local/lib/python3.10/dist-packages (from markdown-it-py>=2.2.0->rich>=10.11.0->typer<1.0,>=0.12->gradio) (0.1.2)\n",
            "Using cached gradio-5.1.0-py3-none-any.whl (42.3 MB)\n",
            "Using cached gradio_client-1.4.0-py3-none-any.whl (319 kB)\n",
            "Using cached huggingface_hub-0.26.0-py3-none-any.whl (447 kB)\n",
            "Installing collected packages: huggingface-hub, gradio-client, gradio\n",
            "  Attempting uninstall: huggingface-hub\n",
            "    Found existing installation: huggingface-hub 0.24.5\n",
            "    Uninstalling huggingface-hub-0.24.5:\n",
            "      Successfully uninstalled huggingface-hub-0.24.5\n",
            "  Attempting uninstall: gradio-client\n",
            "    Found existing installation: gradio_client 1.0.1\n",
            "    Uninstalling gradio_client-1.0.1:\n",
            "      Successfully uninstalled gradio_client-1.0.1\n",
            "  Attempting uninstall: gradio\n",
            "    Found existing installation: gradio 4.36.1\n",
            "    Uninstalling gradio-4.36.1:\n",
            "      Successfully uninstalled gradio-4.36.1\n",
            "Successfully installed gradio-5.1.0 gradio-client-1.4.0 huggingface-hub-0.26.0\n"
          ]
        },
        {
          "data": {
            "application/vnd.colab-display-data+json": {
              "id": "7519b4171a7640febf1f4d7a1796e198",
              "pip_warning": {
                "packages": [
                  "huggingface_hub"
                ]
              }
            }
          },
          "metadata": {},
          "output_type": "display_data"
        }
      ],
      "source": [
        "pip install --upgrade gradio fastapi pydantic"
      ]
    }
  ],
  "metadata": {
    "accelerator": "GPU",
    "colab": {
      "gpuType": "T4",
      "provenance": []
    },
    "kernelspec": {
      "display_name": "Python 3",
      "name": "python3"
    },
    "language_info": {
      "name": "python"
    }
  },
  "nbformat": 4,
  "nbformat_minor": 0
}
